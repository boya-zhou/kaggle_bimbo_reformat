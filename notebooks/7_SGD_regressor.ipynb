{
 "cells": [
  {
   "cell_type": "code",
   "execution_count": 1,
   "metadata": {
    "collapsed": true
   },
   "outputs": [],
   "source": [
    "import numpy as np\n",
    "import pandas as pd\n",
    "from sklearn.cross_validation import cross_val_score\n",
    "from sklearn.cross_validation import KFold\n",
    "from sklearn import linear_model\n",
    "from sklearn import grid_search\n",
    "import gc"
   ]
  },
  {
   "cell_type": "code",
   "execution_count": 3,
   "metadata": {
    "collapsed": false
   },
   "outputs": [
    {
     "name": "stdout",
     "output_type": "stream",
     "text": [
      "1_predata.ipynb                   preprocessed_products.csv\r\n",
      "3_xgb.ipynb                       ruta_for_cliente_producto.csv\r\n",
      "3_xgb_prediction.ipynb            \u001b[0m\u001b[01;34mstack_sub\u001b[0m/\r\n",
      "44fea_bst.model                   submission_10_new.csv\r\n",
      "4_keras_nn.ipynb                  submission_11_new.csv\r\n",
      "5_random_forest.ipynb             submission_44fea.csv\r\n",
      "6_stack_model.ipynb               submission_nn.csv\r\n",
      "7_SGD_regressor.ipynb             submission_nn_xgb\r\n",
      "8_svm_linearSVR.ipynb             test_dataset_10_normalize.csv\r\n",
      "agencia_for_cliente_producto.csv  train_dataset_10_normalize.csv\r\n",
      "canal_for_cliente_producto.csv    train_dataset_10_normalize.pickle\r\n",
      "model_nn_10_after_l2reg.h5        train_pivot_56789_to_10_44fea.pickle\r\n",
      "model_nn_10.h5                    train_pivot_56789_to_10_new.pickle\r\n",
      "model_nn_10_whole.h5              train_pivot_6789_to_11_new.pickle\r\n",
      "\u001b[01;34mold_submission\u001b[0m/                   train_pivot_xgb_time1_44fea.csv\r\n",
      "\u001b[01;34morigin\u001b[0m/                           train_pivot_xgb_time1.csv\r\n",
      "pivot_test.pickle                 train_pivot_xgb_time2_38fea.csv\r\n",
      "pivot_train_with_nan.pickle       train_pivot_xgb_time2.csv\r\n"
     ]
    }
   ],
   "source": [
    "%ls"
   ]
  },
  {
   "cell_type": "code",
   "execution_count": 2,
   "metadata": {
    "collapsed": true
   },
   "outputs": [],
   "source": [
    "predictors_10_target = ['agen_for_log_de', 'ruta_for_log_de', 'cliente_for_log_de',\n",
    "       'producto_for_log_de', 'agen_ruta_for_log_de',\n",
    "       'agen_cliente_for_log_de', 'agen_producto_for_log_de',\n",
    "       'ruta_cliente_for_log_de', 'ruta_producto_for_log_de',\n",
    "       'cliente_producto_for_log_de', 'cliente_for_log_sum', 'corr',\n",
    "       't_min_1', 't_min_2', 't_min_3', 't_min_4', 't_min_5', 't1_min_t2',\n",
    "       't1_min_t3', 't1_min_t4', 't1_min_t5', 't2_min_t3', 't2_min_t4',\n",
    "       't2_min_t5', 't3_min_t4', 't3_min_t5', 't4_min_t5', 'LR_prod',\n",
    "       'LR_prod_corr', 't_m_5_cum', 't_m_4_cum', 't_m_3_cum',\n",
    "       't_m_2_cum', 't_m_1_cum', 'NombreCliente', 'weight',\n",
    "       'weight_per_piece', 'pieces','target']"
   ]
  },
  {
   "cell_type": "code",
   "execution_count": 3,
   "metadata": {
    "collapsed": true
   },
   "outputs": [],
   "source": [
    "predictors_10 = ['agen_for_log_de', 'ruta_for_log_de', 'cliente_for_log_de',\n",
    "       'producto_for_log_de', 'agen_ruta_for_log_de',\n",
    "       'agen_cliente_for_log_de', 'agen_producto_for_log_de',\n",
    "       'ruta_cliente_for_log_de', 'ruta_producto_for_log_de',\n",
    "       'cliente_producto_for_log_de', 'cliente_for_log_sum', 'corr',\n",
    "       't_min_1', 't_min_2', 't_min_3', 't_min_4', 't_min_5', 't1_min_t2',\n",
    "       't1_min_t3', 't1_min_t4', 't1_min_t5', 't2_min_t3', 't2_min_t4',\n",
    "       't2_min_t5', 't3_min_t4', 't3_min_t5', 't4_min_t5', 'LR_prod',\n",
    "       'LR_prod_corr', 't_m_5_cum', 't_m_4_cum', 't_m_3_cum',\n",
    "       't_m_2_cum', 't_m_1_cum', 'NombreCliente', 'weight',\n",
    "       'weight_per_piece', 'pieces']"
   ]
  },
  {
   "cell_type": "code",
   "execution_count": 4,
   "metadata": {
    "collapsed": true
   },
   "outputs": [],
   "source": [
    "train_dataset_10_normalize = pd.read_csv('train_dataset_10_normalize.csv',index_col = 0)"
   ]
  },
  {
   "cell_type": "code",
   "execution_count": 5,
   "metadata": {
    "collapsed": true
   },
   "outputs": [],
   "source": [
    "train_nn_time1 = train_dataset_10_normalize[predictors_10]\n",
    "label_nn_time1 = train_dataset_10_normalize['target']"
   ]
  },
  {
   "cell_type": "code",
   "execution_count": 6,
   "metadata": {
    "collapsed": false
   },
   "outputs": [],
   "source": [
    "clf = linear_model.SGDRegressor(loss ='squared_loss',\n",
    "                               penalty = 'l2',\n",
    "                               alpha = 0.00001,\n",
    "                               n_iter = 50)"
   ]
  },
  {
   "cell_type": "code",
   "execution_count": 7,
   "metadata": {
    "collapsed": false
   },
   "outputs": [
    {
     "name": "stderr",
     "output_type": "stream",
     "text": [
      "/usr/local/lib/python2.7/dist-packages/pandas/core/frame.py:2762: SettingWithCopyWarning: \n",
      "A value is trying to be set on a copy of a slice from a DataFrame\n",
      "\n",
      "See the caveats in the documentation: http://pandas.pydata.org/pandas-docs/stable/indexing.html#indexing-view-versus-copy\n",
      "  downcast=downcast, **kwargs)\n"
     ]
    }
   ],
   "source": [
    "train_nn_time1.fillna(-1,inplace = True)"
   ]
  },
  {
   "cell_type": "code",
   "execution_count": 8,
   "metadata": {
    "collapsed": false
   },
   "outputs": [
    {
     "name": "stdout",
     "output_type": "stream",
     "text": [
      "[CV] no parameters to be set .........................................\n",
      "[CV] ............... no parameters to be set, score=-0.228246 - 4.8min\n",
      "[CV] no parameters to be set .........................................\n",
      "[CV] ............... no parameters to be set, score=-0.234660 - 4.8min\n",
      "[CV] no parameters to be set .........................................\n",
      "[CV] ............... no parameters to be set, score=-0.239492 - 4.8min\n",
      "[CV] no parameters to be set .........................................\n",
      "[CV] ............... no parameters to be set, score=-0.229627 - 4.8min\n",
      "[CV] no parameters to be set .........................................\n",
      "[CV] ............... no parameters to be set, score=-0.238932 - 4.8min\n"
     ]
    },
    {
     "name": "stderr",
     "output_type": "stream",
     "text": [
      "[Parallel(n_jobs=1)]: Done   5 out of   5 | elapsed: 23.9min finished\n"
     ]
    }
   ],
   "source": [
    "kfold = KFold(n=len(train_nn_time1), n_folds=5, random_state=42)\n",
    "results = cross_val_score(clf,train_nn_time1, label_nn_time1,scoring='mean_squared_error' ,cv=kfold,verbose = 3)"
   ]
  },
  {
   "cell_type": "code",
   "execution_count": null,
   "metadata": {
    "collapsed": true
   },
   "outputs": [],
   "source": []
  }
 ],
 "metadata": {
  "kernelspec": {
   "display_name": "Python 2",
   "language": "python",
   "name": "python2"
  },
  "language_info": {
   "codemirror_mode": {
    "name": "ipython",
    "version": 2
   },
   "file_extension": ".py",
   "mimetype": "text/x-python",
   "name": "python",
   "nbconvert_exporter": "python",
   "pygments_lexer": "ipython2",
   "version": "2.7.6"
  }
 },
 "nbformat": 4,
 "nbformat_minor": 0
}
