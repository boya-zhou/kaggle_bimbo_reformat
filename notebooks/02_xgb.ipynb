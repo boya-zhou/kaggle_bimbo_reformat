{
 "cells": [
  {
   "cell_type": "code",
   "execution_count": 47,
   "metadata": {
    "collapsed": false
   },
   "outputs": [],
   "source": [
    "import pandas as pd\n",
    "import numpy as np\n",
    "import xgboost as xgb"
   ]
  },
  {
   "cell_type": "code",
   "execution_count": 48,
   "metadata": {
    "collapsed": true
   },
   "outputs": [],
   "source": [
    "path = \"/home/siyuan/Documents/Boya/bimbo_kaggle_reformat-master\""
   ]
  },
  {
   "cell_type": "code",
   "execution_count": 49,
   "metadata": {
    "collapsed": false,
    "scrolled": true
   },
   "outputs": [],
   "source": [
    "# hold_data is for for parameter tuining, already got them\n",
    "train_data = pd.read_csv(path + \"/data/processed/train.csv\")\n",
    "train_label = pd.read_csv(path + \"/data/processed/train_label.csv\")\n",
    "test_data = pd.read_csv(path + \"/data/processed/test_label.csv\")"
   ]
  },
  {
   "cell_type": "code",
   "execution_count": 50,
   "metadata": {
    "collapsed": true
   },
   "outputs": [],
   "source": [
    "test_data.columns = train_data.columns"
   ]
  },
  {
   "cell_type": "code",
   "execution_count": 51,
   "metadata": {
    "collapsed": false
   },
   "outputs": [
    {
     "name": "stdout",
     "output_type": "stream",
     "text": [
      "(13049, 401) (13049, 1)\n"
     ]
    }
   ],
   "source": [
    "print train_data.shape, train_label.shape"
   ]
  },
  {
   "cell_type": "code",
   "execution_count": 52,
   "metadata": {
    "collapsed": true
   },
   "outputs": [],
   "source": [
    "param = {'booster':'gbtree',\n",
    "         'nthread': 10,\n",
    "         'max_depth':5, \n",
    "         'eta':0.2,\n",
    "         'silent':1,\n",
    "         'subsample':0.7, \n",
    "         'objective':'reg:linear',\n",
    "         'eval_metric':'rmse',\n",
    "         'colsample_bytree':0.7}"
   ]
  },
  {
   "cell_type": "code",
   "execution_count": 53,
   "metadata": {
    "collapsed": false,
    "scrolled": false
   },
   "outputs": [
    {
     "name": "stdout",
     "output_type": "stream",
     "text": [
      "training finished!\n",
      "predicting finished!\n"
     ]
    }
   ],
   "source": [
    "num_round = 566\n",
    "dtrain = xgb.DMatrix(train_data, label = train_label, missing= np.nan)\n",
    "bst_bimbo = xgb.train(param, dtrain, num_round)\n",
    "print 'training finished!'\n",
    "\n",
    "bst_bimbo.save_model(path + '/models/xgb_bimbo.model')\n",
    "\n",
    "dtest = xgb.DMatrix(test_data, missing= np.nan)\n",
    "submission_bimbo = bst_bimbo.predict(dtest)\n",
    "submission_bimbo.to_csv(\"sample_sub.csv\", index = False)\n",
    "print 'predicting finished!'"
   ]
  },
  {
   "cell_type": "code",
   "execution_count": null,
   "metadata": {
    "collapsed": true
   },
   "outputs": [],
   "source": []
  }
 ],
 "metadata": {
  "kernelspec": {
   "display_name": "Python 2",
   "language": "python",
   "name": "python2"
  },
  "language_info": {
   "codemirror_mode": {
    "name": "ipython",
    "version": 2
   },
   "file_extension": ".py",
   "mimetype": "text/x-python",
   "name": "python",
   "nbconvert_exporter": "python",
   "pygments_lexer": "ipython2",
   "version": "2.7.12"
  }
 },
 "nbformat": 4,
 "nbformat_minor": 1
}
