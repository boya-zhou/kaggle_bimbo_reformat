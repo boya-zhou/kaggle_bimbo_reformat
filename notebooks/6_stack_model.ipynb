{
 "cells": [
  {
   "cell_type": "code",
   "execution_count": 1,
   "metadata": {
    "collapsed": true
   },
   "outputs": [],
   "source": [
    "import pandas as pd\n",
    "import numpy as np\n",
    "import tensorflow as tf\n",
    "from sklearn.cross_validation import train_test_split\n",
    "import xgboost as xgb\n",
    "from scipy import sparse\n",
    "from sklearn.feature_extraction import FeatureHasher\n",
    "from scipy.sparse import coo_matrix,csr_matrix,csc_matrix, hstack\n",
    "from sklearn.preprocessing import normalize\n",
    "from sklearn.utils import shuffle\n",
    "from sklearn import linear_model\n",
    "import gc\n",
    "from sklearn import preprocessing"
   ]
  },
  {
   "cell_type": "code",
   "execution_count": 1,
   "metadata": {
    "collapsed": false
   },
   "outputs": [
    {
     "name": "stdout",
     "output_type": "stream",
     "text": [
      "1_predata.ipynb                   preprocessed_products.csv\r\n",
      "3_xgb.ipynb                       ruta_for_cliente_producto.csv\r\n",
      "3_xgb_prediction.ipynb            \u001b[0m\u001b[01;34mstack_sub\u001b[0m/\r\n",
      "44fea_bst.model                   submission_10_new.csv\r\n",
      "4_keras_nn.ipynb                  submission_11_new.csv\r\n",
      "5_random_forest.ipynb             submission_44fea.csv\r\n",
      "6_stack_model.ipynb               submission_nn.csv\r\n",
      "agencia_for_cliente_producto.csv  submission_nn_xgb\r\n",
      "canal_for_cliente_producto.csv    train_pivot_56789_to_10_44fea.pickle\r\n",
      "model_nn_10_after_l2reg.h5        train_pivot_56789_to_10_new.pickle\r\n",
      "model_nn_10.h5                    train_pivot_6789_to_11_new.pickle\r\n",
      "model_nn_10_whole.h5              train_pivot_xgb_time1_44fea.csv\r\n",
      "\u001b[01;34mold_submission\u001b[0m/                   train_pivot_xgb_time1.csv\r\n",
      "\u001b[01;34morigin\u001b[0m/                           train_pivot_xgb_time2_38fea.csv\r\n",
      "pivot_test.pickle                 train_pivot_xgb_time2.csv\r\n",
      "pivot_train_with_nan.pickle\r\n"
     ]
    }
   ],
   "source": [
    "%ls"
   ]
  },
  {
   "cell_type": "markdown",
   "metadata": {
    "collapsed": true
   },
   "source": [
    "### read train data\n",
    "-----------------------\n",
    "- for xgb\n",
    "- for nn\n",
    "-----------------"
   ]
  },
  {
   "cell_type": "code",
   "execution_count": 7,
   "metadata": {
    "collapsed": false
   },
   "outputs": [
    {
     "name": "stdout",
     "output_type": "stream",
     "text": [
      "(20768652, 1)\n",
      "(20768652, 2)\n"
     ]
    }
   ],
   "source": [
    "stack_train_nn_10= pd.read_pickle('stack_sub/stack_train_nn_10.pickle')\n",
    "stack_train_xgb_10= pd.read_csv('stack_sub/stack_train_xgb_10.csv',index_col = False,header = None)\n",
    "train_label = pd.read_csv('train_pivot_xgb_time1.csv',usecols = ['target'])\n",
    "\n",
    "print stack_train_nn_10.shape\n",
    "print stack_train_xgb_10.shape"
   ]
  },
  {
   "cell_type": "code",
   "execution_count": 10,
   "metadata": {
    "collapsed": false
   },
   "outputs": [
    {
     "data": {
      "text/html": [
       "<div>\n",
       "<table border=\"1\" class=\"dataframe\">\n",
       "  <thead>\n",
       "    <tr style=\"text-align: right;\">\n",
       "      <th></th>\n",
       "      <th>xgb</th>\n",
       "      <th>nn</th>\n",
       "    </tr>\n",
       "  </thead>\n",
       "  <tbody>\n",
       "    <tr>\n",
       "      <th>0</th>\n",
       "      <td>2.767780</td>\n",
       "      <td>3.470119</td>\n",
       "    </tr>\n",
       "    <tr>\n",
       "      <th>1</th>\n",
       "      <td>2.835551</td>\n",
       "      <td>2.667063</td>\n",
       "    </tr>\n",
       "    <tr>\n",
       "      <th>2</th>\n",
       "      <td>1.999626</td>\n",
       "      <td>1.882208</td>\n",
       "    </tr>\n",
       "    <tr>\n",
       "      <th>3</th>\n",
       "      <td>3.505517</td>\n",
       "      <td>3.318728</td>\n",
       "    </tr>\n",
       "    <tr>\n",
       "      <th>4</th>\n",
       "      <td>4.278482</td>\n",
       "      <td>4.153247</td>\n",
       "    </tr>\n",
       "  </tbody>\n",
       "</table>\n",
       "</div>"
      ],
      "text/plain": [
       "        xgb        nn\n",
       "0  2.767780  3.470119\n",
       "1  2.835551  2.667063\n",
       "2  1.999626  1.882208\n",
       "3  3.505517  3.318728\n",
       "4  4.278482  4.153247"
      ]
     },
     "execution_count": 10,
     "metadata": {},
     "output_type": "execute_result"
    }
   ],
   "source": [
    "stack_train_xgb_10.rename(columns = {1:'xgb'},inplace = True)\n",
    "stack_train_nn_10.rename(columns = {'predict':'nn'},inplace = True)\n",
    "stack_train = pd.DataFrame()\n",
    "stack_train['xgb'] = stack_train_xgb_10['xgb']\n",
    "stack_train['nn'] = stack_train_nn_10['nn']\n",
    "stack_train['target'] =  train_label['target']\n",
    "stack_train.head()"
   ]
  },
  {
   "cell_type": "code",
   "execution_count": 14,
   "metadata": {
    "collapsed": false
   },
   "outputs": [
    {
     "data": {
      "text/html": [
       "<div>\n",
       "<table border=\"1\" class=\"dataframe\">\n",
       "  <thead>\n",
       "    <tr style=\"text-align: right;\">\n",
       "      <th></th>\n",
       "      <th>xgb</th>\n",
       "      <th>nn</th>\n",
       "      <th>target</th>\n",
       "    </tr>\n",
       "  </thead>\n",
       "  <tbody>\n",
       "    <tr>\n",
       "      <th>0</th>\n",
       "      <td>2.767780</td>\n",
       "      <td>3.470119</td>\n",
       "      <td>4.574711</td>\n",
       "    </tr>\n",
       "    <tr>\n",
       "      <th>1</th>\n",
       "      <td>2.835551</td>\n",
       "      <td>2.667063</td>\n",
       "      <td>2.639057</td>\n",
       "    </tr>\n",
       "    <tr>\n",
       "      <th>2</th>\n",
       "      <td>1.999626</td>\n",
       "      <td>1.882208</td>\n",
       "      <td>2.397895</td>\n",
       "    </tr>\n",
       "    <tr>\n",
       "      <th>3</th>\n",
       "      <td>3.505517</td>\n",
       "      <td>3.318728</td>\n",
       "      <td>3.784190</td>\n",
       "    </tr>\n",
       "    <tr>\n",
       "      <th>4</th>\n",
       "      <td>4.278482</td>\n",
       "      <td>4.153247</td>\n",
       "      <td>4.682131</td>\n",
       "    </tr>\n",
       "  </tbody>\n",
       "</table>\n",
       "</div>"
      ],
      "text/plain": [
       "        xgb        nn    target\n",
       "0  2.767780  3.470119  4.574711\n",
       "1  2.835551  2.667063  2.639057\n",
       "2  1.999626  1.882208  2.397895\n",
       "3  3.505517  3.318728  3.784190\n",
       "4  4.278482  4.153247  4.682131"
      ]
     },
     "execution_count": 14,
     "metadata": {},
     "output_type": "execute_result"
    }
   ],
   "source": [
    "stack_train.head()"
   ]
  },
  {
   "cell_type": "markdown",
   "metadata": {},
   "source": [
    "### begin xgboost\n",
    "-------------------"
   ]
  },
  {
   "cell_type": "code",
   "execution_count": 43,
   "metadata": {
    "collapsed": true
   },
   "outputs": [],
   "source": [
    "param_10 = {'booster':'gbtree',\n",
    "         'nthread': 7,\n",
    "         'max_depth':5, \n",
    "         'eta':0.4,\n",
    "         'silent':1,\n",
    "         'subsample':0.7, \n",
    "         'objective':'reg:linear',\n",
    "         'eval_metric':'rmse'}"
   ]
  },
  {
   "cell_type": "code",
   "execution_count": 36,
   "metadata": {
    "collapsed": true
   },
   "outputs": [],
   "source": [
    "train_label_10 = stack_train['target']\n",
    "train_feature_10 = stack_train.drop(['target'],axis = 1)\n",
    "\n",
    "dtrain_10 = xgb.DMatrix(train_feature_10,label = train_label_10,missing= np.nan)"
   ]
  },
  {
   "cell_type": "code",
   "execution_count": 44,
   "metadata": {
    "collapsed": false,
    "scrolled": true
   },
   "outputs": [
    {
     "name": "stdout",
     "output_type": "stream",
     "text": [
      "[0]\ttrain-rmse:0.89846\ttest-rmse:0.898465\n",
      "[1]\ttrain-rmse:0.647989\ttest-rmse:0.647995\n",
      "[2]\ttrain-rmse:0.529401\ttest-rmse:0.529408\n",
      "[3]\ttrain-rmse:0.479527\ttest-rmse:0.479536\n",
      "[4]\ttrain-rmse:0.460222\ttest-rmse:0.460231\n",
      "[5]\ttrain-rmse:0.45305\ttest-rmse:0.453061\n",
      "[6]\ttrain-rmse:0.450429\ttest-rmse:0.450443\n",
      "[7]\ttrain-rmse:0.449472\ttest-rmse:0.449488\n",
      "[8]\ttrain-rmse:0.449121\ttest-rmse:0.44914\n",
      "[9]\ttrain-rmse:0.448989\ttest-rmse:0.44901\n",
      "[10]\ttrain-rmse:0.448935\ttest-rmse:0.448957\n",
      "[11]\ttrain-rmse:0.44891\ttest-rmse:0.448935\n",
      "[12]\ttrain-rmse:0.448898\ttest-rmse:0.448925\n",
      "[13]\ttrain-rmse:0.44889\ttest-rmse:0.448919\n",
      "[14]\ttrain-rmse:0.448885\ttest-rmse:0.448916\n",
      "[15]\ttrain-rmse:0.448879\ttest-rmse:0.448911\n",
      "[16]\ttrain-rmse:0.448874\ttest-rmse:0.448908\n",
      "[17]\ttrain-rmse:0.44887\ttest-rmse:0.448904\n",
      "[18]\ttrain-rmse:0.448867\ttest-rmse:0.448902\n",
      "[19]\ttrain-rmse:0.448863\ttest-rmse:0.4489\n",
      "[20]\ttrain-rmse:0.448859\ttest-rmse:0.448896\n",
      "[21]\ttrain-rmse:0.448854\ttest-rmse:0.448893\n",
      "[22]\ttrain-rmse:0.448851\ttest-rmse:0.44889\n",
      "[23]\ttrain-rmse:0.448848\ttest-rmse:0.448889\n",
      "[24]\ttrain-rmse:0.448845\ttest-rmse:0.448887\n",
      "[25]\ttrain-rmse:0.448842\ttest-rmse:0.448885\n",
      "[26]\ttrain-rmse:0.44884\ttest-rmse:0.448885\n",
      "[27]\ttrain-rmse:0.448838\ttest-rmse:0.448883\n",
      "[28]\ttrain-rmse:0.448836\ttest-rmse:0.448881\n",
      "[29]\ttrain-rmse:0.448834\ttest-rmse:0.448881\n",
      "[30]\ttrain-rmse:0.448833\ttest-rmse:0.44888\n",
      "[31]\ttrain-rmse:0.448831\ttest-rmse:0.44888\n",
      "[32]\ttrain-rmse:0.448829\ttest-rmse:0.448879\n",
      "[33]\ttrain-rmse:0.448827\ttest-rmse:0.448878\n",
      "[34]\ttrain-rmse:0.448826\ttest-rmse:0.448878\n",
      "[35]\ttrain-rmse:0.448824\ttest-rmse:0.448877\n",
      "[36]\ttrain-rmse:0.448822\ttest-rmse:0.448877\n",
      "[37]\ttrain-rmse:0.448821\ttest-rmse:0.448877\n",
      "[38]\ttrain-rmse:0.448819\ttest-rmse:0.448876\n",
      "[39]\ttrain-rmse:0.448818\ttest-rmse:0.448874\n",
      "[40]\ttrain-rmse:0.448817\ttest-rmse:0.448874\n",
      "[41]\ttrain-rmse:0.448816\ttest-rmse:0.448874\n",
      "[42]\ttrain-rmse:0.448815\ttest-rmse:0.448874\n",
      "[43]\ttrain-rmse:0.448814\ttest-rmse:0.448873\n",
      "[44]\ttrain-rmse:0.448813\ttest-rmse:0.448874\n",
      "[45]\ttrain-rmse:0.448811\ttest-rmse:0.448873\n",
      "[46]\ttrain-rmse:0.44881\ttest-rmse:0.448873\n",
      "[47]\ttrain-rmse:0.448809\ttest-rmse:0.448873\n",
      "[48]\ttrain-rmse:0.448808\ttest-rmse:0.448874\n",
      "[49]\ttrain-rmse:0.448807\ttest-rmse:0.448873\n",
      "[50]\ttrain-rmse:0.448806\ttest-rmse:0.448873\n",
      "[51]\ttrain-rmse:0.448805\ttest-rmse:0.448873\n",
      "[52]\ttrain-rmse:0.448805\ttest-rmse:0.448873\n",
      "[53]\ttrain-rmse:0.448804\ttest-rmse:0.448873\n",
      "    test-rmse-mean  test-rmse-std  train-rmse-mean  train-rmse-std\n",
      "45        0.448873       0.000128         0.448811        0.000033\n",
      "46        0.448873       0.000128         0.448810        0.000033\n",
      "47        0.448873       0.000128         0.448809        0.000033\n",
      "48        0.448874       0.000128         0.448808        0.000033\n",
      "49        0.448873       0.000129         0.448807        0.000033\n"
     ]
    }
   ],
   "source": [
    "num_round = 1500\n",
    "\n",
    "cvresult = xgb.cv(param_10, dtrain_10, num_round, nfold=5,show_stdv=False,\n",
    "                        seed = 42, early_stopping_rounds=5,verbose_eval = 1)\n",
    "print(cvresult.tail())"
   ]
  },
  {
   "cell_type": "markdown",
   "metadata": {},
   "source": [
    "### read submission file\n",
    "-----------------"
   ]
  },
  {
   "cell_type": "code",
   "execution_count": 31,
   "metadata": {
    "collapsed": false
   },
   "outputs": [
    {
     "name": "stdout",
     "output_type": "stream",
     "text": [
      "(6999251, 2)\n",
      "(6999251, 2)\n"
     ]
    }
   ],
   "source": [
    "stack_train_nn_10= pd.read_csv('stack_sub/submission_nn_2.csv',index_col=0)\n",
    "stack_train_xgb_10= pd.read_csv('stack_sub/submission_xgb_2.csv',index_col=0)\n",
    "\n",
    "stack_train_xgb_10.reset_index(inplace = True)\n",
    "stack_train_nn_10.reset_index(inplace = True)\n",
    "\n",
    "stack_train_xgb_10.rename(columns = {'Demanda_uni_equil':'xgb'},inplace = True)\n",
    "stack_train_nn_10.rename(columns = {'Demanda_uni_equil':'nn'},inplace = True)\n",
    "\n",
    "print stack_train_nn_10.shape\n",
    "print stack_train_xgb_10.shape"
   ]
  },
  {
   "cell_type": "code",
   "execution_count": 32,
   "metadata": {
    "collapsed": true
   },
   "outputs": [],
   "source": [
    "stack_train_xgb_10['nn'] = stack_train_nn_10['nn']\n",
    "stack_train_xgb_10['nn'] = stack_train_xgb_10['nn'].apply(np.log1p)\n",
    "stack_train_xgb_10['xgb'] = stack_train_xgb_10['xgb'].apply(np.log1p)"
   ]
  },
  {
   "cell_type": "code",
   "execution_count": 33,
   "metadata": {
    "collapsed": false
   },
   "outputs": [
    {
     "data": {
      "text/html": [
       "<div>\n",
       "<table border=\"1\" class=\"dataframe\">\n",
       "  <thead>\n",
       "    <tr style=\"text-align: right;\">\n",
       "      <th></th>\n",
       "      <th>id</th>\n",
       "      <th>xgb</th>\n",
       "      <th>nn</th>\n",
       "    </tr>\n",
       "  </thead>\n",
       "  <tbody>\n",
       "    <tr>\n",
       "      <th>0</th>\n",
       "      <td>1569352</td>\n",
       "      <td>2.128232</td>\n",
       "      <td>1.740466</td>\n",
       "    </tr>\n",
       "    <tr>\n",
       "      <th>1</th>\n",
       "      <td>6667200</td>\n",
       "      <td>3.627004</td>\n",
       "      <td>3.629660</td>\n",
       "    </tr>\n",
       "    <tr>\n",
       "      <th>2</th>\n",
       "      <td>1592616</td>\n",
       "      <td>2.990720</td>\n",
       "      <td>3.000720</td>\n",
       "    </tr>\n",
       "    <tr>\n",
       "      <th>3</th>\n",
       "      <td>3909690</td>\n",
       "      <td>4.172848</td>\n",
       "      <td>4.207673</td>\n",
       "    </tr>\n",
       "    <tr>\n",
       "      <th>4</th>\n",
       "      <td>3659672</td>\n",
       "      <td>3.634951</td>\n",
       "      <td>3.577948</td>\n",
       "    </tr>\n",
       "  </tbody>\n",
       "</table>\n",
       "</div>"
      ],
      "text/plain": [
       "        id       xgb        nn\n",
       "0  1569352  2.128232  1.740466\n",
       "1  6667200  3.627004  3.629660\n",
       "2  1592616  2.990720  3.000720\n",
       "3  3909690  4.172848  4.207673\n",
       "4  3659672  3.634951  3.577948"
      ]
     },
     "execution_count": 33,
     "metadata": {},
     "output_type": "execute_result"
    }
   ],
   "source": [
    "stack_train_xgb_10.head()"
   ]
  },
  {
   "cell_type": "code",
   "execution_count": 34,
   "metadata": {
    "collapsed": false
   },
   "outputs": [
    {
     "name": "stdout",
     "output_type": "stream",
     "text": [
      "(3538385, 3)\n"
     ]
    },
    {
     "data": {
      "text/html": [
       "<div>\n",
       "<table border=\"1\" class=\"dataframe\">\n",
       "  <thead>\n",
       "    <tr style=\"text-align: right;\">\n",
       "      <th></th>\n",
       "      <th>id</th>\n",
       "      <th>xgb</th>\n",
       "      <th>nn</th>\n",
       "    </tr>\n",
       "  </thead>\n",
       "  <tbody>\n",
       "    <tr>\n",
       "      <th>0</th>\n",
       "      <td>1569352</td>\n",
       "      <td>2.128232</td>\n",
       "      <td>1.740466</td>\n",
       "    </tr>\n",
       "    <tr>\n",
       "      <th>1</th>\n",
       "      <td>6667200</td>\n",
       "      <td>3.627004</td>\n",
       "      <td>3.629660</td>\n",
       "    </tr>\n",
       "    <tr>\n",
       "      <th>2</th>\n",
       "      <td>1592616</td>\n",
       "      <td>2.990720</td>\n",
       "      <td>3.000720</td>\n",
       "    </tr>\n",
       "    <tr>\n",
       "      <th>3</th>\n",
       "      <td>3909690</td>\n",
       "      <td>4.172848</td>\n",
       "      <td>4.207673</td>\n",
       "    </tr>\n",
       "    <tr>\n",
       "      <th>4</th>\n",
       "      <td>3659672</td>\n",
       "      <td>3.634951</td>\n",
       "      <td>3.577948</td>\n",
       "    </tr>\n",
       "  </tbody>\n",
       "</table>\n",
       "</div>"
      ],
      "text/plain": [
       "        id       xgb        nn\n",
       "0  1569352  2.128232  1.740466\n",
       "1  6667200  3.627004  3.629660\n",
       "2  1592616  2.990720  3.000720\n",
       "3  3909690  4.172848  4.207673\n",
       "4  3659672  3.634951  3.577948"
      ]
     },
     "execution_count": 34,
     "metadata": {},
     "output_type": "execute_result"
    }
   ],
   "source": [
    "stack_train_xgb_10 = stack_train_xgb_10.iloc[:3538385]\n",
    "print stack_train_xgb_10.shape\n",
    "stack_train_xgb_10.head()"
   ]
  }
 ],
 "metadata": {
  "kernelspec": {
   "display_name": "Python 2",
   "language": "python",
   "name": "python2"
  },
  "language_info": {
   "codemirror_mode": {
    "name": "ipython",
    "version": 2
   },
   "file_extension": ".py",
   "mimetype": "text/x-python",
   "name": "python",
   "nbconvert_exporter": "python",
   "pygments_lexer": "ipython2",
   "version": "2.7.6"
  }
 },
 "nbformat": 4,
 "nbformat_minor": 0
}
